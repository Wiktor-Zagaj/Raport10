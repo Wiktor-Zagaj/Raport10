{
  "nbformat": 4,
  "nbformat_minor": 0,
  "metadata": {
    "colab": {
      "provenance": [],
      "authorship_tag": "ABX9TyOthLo0CVFHDuckY3xG+o9L",
      "include_colab_link": true
    },
    "kernelspec": {
      "name": "python3",
      "display_name": "Python 3"
    },
    "language_info": {
      "name": "python"
    }
  },
  "cells": [
    {
      "cell_type": "markdown",
      "metadata": {
        "id": "view-in-github",
        "colab_type": "text"
      },
      "source": [
        "<a href=\"https://colab.research.google.com/github/Wiktor-Zagaj/Raport10/blob/main/Raport%208%20-%20poprawiony.ipynb\" target=\"_parent\"><img src=\"https://colab.research.google.com/assets/colab-badge.svg\" alt=\"Open In Colab\"/></a>"
      ]
    },
    {
      "cell_type": "markdown",
      "source": [
        "# Raport 8"
      ],
      "metadata": {
        "id": "ugG6tS-oRzUq"
      }
    },
    {
      "cell_type": "code",
      "source": [
        "from csv import reader\n",
        "!wget https://github.com/Wiktor-Zagaj/Raport10/blob/main/googleplaystore.csv -O google_wget.csv\n",
        "!wget https://github.com/Wiktor-Zagaj/Raport10/blob/main/AppleStore.csv -O apple_wget.csv"
      ],
      "metadata": {
        "id": "VPIptNLC6lly",
        "colab": {
          "base_uri": "https://localhost:8080/"
        },
        "outputId": "70ef7551-f7c6-4bc0-feec-8a53e075a1a7"
      },
      "execution_count": null,
      "outputs": [
        {
          "output_type": "stream",
          "name": "stdout",
          "text": [
            "--2025-05-18 21:14:59--  https://github.com/Wiktor-Zagaj/Raport10/blob/main/googleplaystore.csv\n",
            "Resolving github.com (github.com)... 140.82.114.3\n",
            "Connecting to github.com (github.com)|140.82.114.3|:443... connected.\n",
            "HTTP request sent, awaiting response... 200 OK\n",
            "Length: unspecified [text/html]\n",
            "Saving to: ‘google_wget.csv’\n",
            "\n",
            "google_wget.csv         [ <=>                ]   1.56M  --.-KB/s    in 0.09s   \n",
            "\n",
            "2025-05-18 21:15:00 (17.8 MB/s) - ‘google_wget.csv’ saved [1633101]\n",
            "\n",
            "--2025-05-18 21:15:00--  https://github.com/Wiktor-Zagaj/Raport10/blob/main/AppleStore.csv\n",
            "Resolving github.com (github.com)... 140.82.114.3\n",
            "Connecting to github.com (github.com)|140.82.114.3|:443... connected.\n",
            "HTTP request sent, awaiting response... 200 OK\n",
            "Length: unspecified [text/html]\n",
            "Saving to: ‘apple_wget.csv’\n",
            "\n",
            "apple_wget.csv          [ <=>                ] 919.42K  --.-KB/s    in 0.09s   \n",
            "\n",
            "2025-05-18 21:15:01 (9.84 MB/s) - ‘apple_wget.csv’ saved [941482]\n",
            "\n"
          ]
        }
      ]
    },
    {
      "cell_type": "code",
      "source": [
        "opened_file = open('google_wget.csv')\n",
        "read_file = reader(opened_file)\n",
        "android = list(read_file)\n",
        "android_header = android[0]\n",
        "android = android[1:]"
      ],
      "metadata": {
        "id": "bR5ygN1G6moV"
      },
      "execution_count": null,
      "outputs": []
    },
    {
      "cell_type": "code",
      "source": [
        "opened_file = open('apple_wget.csv')\n",
        "read_file = reader(opened_file)\n",
        "ios = list(read_file)\n",
        "ios_header = ios[0]\n",
        "ios = ios[1:]"
      ],
      "metadata": {
        "id": "hClMZori6ogQ"
      },
      "execution_count": null,
      "outputs": []
    },
    {
      "cell_type": "code",
      "source": [
        "del android[10472] # TYLKO RAZ WŁĄĆZYĆ"
      ],
      "metadata": {
        "id": "dwlZy_jl6roa"
      },
      "execution_count": null,
      "outputs": []
    },
    {
      "cell_type": "code",
      "source": [
        "duplicate_apps = []\n",
        "unique_apps = []"
      ],
      "metadata": {
        "id": "Fd_S18b66uuL"
      },
      "execution_count": null,
      "outputs": []
    },
    {
      "cell_type": "code",
      "source": [
        "for app in android:\n",
        "    name = app[0]\n",
        "    if name in unique_apps:\n",
        "        duplicate_apps.append(name)\n",
        "    else:\n",
        "        unique_apps.append(name)"
      ],
      "metadata": {
        "id": "5XG6wIBx6wNB"
      },
      "execution_count": null,
      "outputs": []
    },
    {
      "cell_type": "code",
      "source": [
        "reviews_max = {}"
      ],
      "metadata": {
        "id": "FSMc-sKd6x4Q"
      },
      "execution_count": null,
      "outputs": []
    },
    {
      "cell_type": "code",
      "source": [
        "for app in android:\n",
        "    name = app[0]\n",
        "    n_reviews = float(app[3])\n",
        "\n",
        "    if name in reviews_max and reviews_max[name] < n_reviews:\n",
        "        reviews_max[name] = n_reviews\n",
        "\n",
        "    elif name not in reviews_max:\n",
        "        reviews_max[name] = n_reviews"
      ],
      "metadata": {
        "id": "9jb-rZc66zPz"
      },
      "execution_count": null,
      "outputs": []
    },
    {
      "cell_type": "code",
      "source": [
        "android_clean = []\n",
        "already_added = []"
      ],
      "metadata": {
        "id": "7tRamv1060tF"
      },
      "execution_count": null,
      "outputs": []
    },
    {
      "cell_type": "code",
      "source": [
        "for app in android:\n",
        "    name = app[0]\n",
        "    n_reviews = float(app[3])\n",
        "\n",
        "    if (reviews_max[name] == n_reviews) and (name not in already_added):\n",
        "        android_clean.append(app)\n",
        "        already_added.append(name)"
      ],
      "metadata": {
        "id": "qxAeUyYI62fM"
      },
      "execution_count": null,
      "outputs": []
    },
    {
      "cell_type": "code",
      "source": [
        "def is_english(string):\n",
        "    non_ascii = 0\n",
        "\n",
        "    for character in string:\n",
        "        if ord(character) > 127:\n",
        "            non_ascii += 1\n",
        "\n",
        "    if non_ascii > 3:\n",
        "        return False\n",
        "    else:\n",
        "        return True"
      ],
      "metadata": {
        "id": "vpcg9qKz64_z"
      },
      "execution_count": null,
      "outputs": []
    },
    {
      "cell_type": "code",
      "source": [
        "android_english = []\n",
        "ios_english = []"
      ],
      "metadata": {
        "id": "rsR5EccO672v"
      },
      "execution_count": null,
      "outputs": []
    },
    {
      "cell_type": "code",
      "source": [
        "for app in android_clean:\n",
        "    name = app[0]\n",
        "    if is_english(name):\n",
        "        android_english.append(app)\n",
        "\n",
        "for app in ios:\n",
        "    name = app[1]\n",
        "    if is_english(name):\n",
        "        ios_english.append(app)"
      ],
      "metadata": {
        "id": "1iZ8TZac69Sa"
      },
      "execution_count": null,
      "outputs": []
    },
    {
      "cell_type": "code",
      "source": [
        "android_final = []\n",
        "ios_final = []"
      ],
      "metadata": {
        "id": "TE_SNee56_MV"
      },
      "execution_count": null,
      "outputs": []
    },
    {
      "cell_type": "code",
      "source": [
        "for app in android_english:\n",
        "    price = app[7]\n",
        "    if price == '0':\n",
        "        android_final.append(app)\n",
        "\n",
        "for app in ios_english:\n",
        "    price = app[4]\n",
        "    if price == '0.0':\n",
        "        ios_final.append(app)"
      ],
      "metadata": {
        "id": "paBrCtZo7AfF"
      },
      "execution_count": null,
      "outputs": []
    },
    {
      "cell_type": "code",
      "source": [
        "def freq_table(dataset, index):\n",
        "    table = {}\n",
        "    total = 0\n",
        "\n",
        "    for row in dataset:\n",
        "        total += 1\n",
        "        value = row[index]\n",
        "        if value in table:\n",
        "            table[value] += 1\n",
        "        else:\n",
        "            table[value] = 1\n",
        "\n",
        "    table_percentages = {}\n",
        "    for key in table:\n",
        "        percentage = (table[key] / total) * 100\n",
        "        table_percentages[key] = percentage\n",
        "\n",
        "    return table_percentages"
      ],
      "metadata": {
        "id": "LqDe2pOX7CUf"
      },
      "execution_count": null,
      "outputs": []
    },
    {
      "cell_type": "code",
      "source": [
        "def display_table(dataset, index):\n",
        "    table = freq_table(dataset, index)\n",
        "    table_display = []\n",
        "    for key in table:\n",
        "        key_val_as_tuple = (table[key], key)\n",
        "        table_display.append(key_val_as_tuple)\n",
        "\n",
        "    table_sorted = sorted(table_display, reverse = True)\n",
        "    for entry in table_sorted:\n",
        "        print(entry[1], ':', entry[0])"
      ],
      "metadata": {
        "id": "hO7Y2GSe7Epy"
      },
      "execution_count": null,
      "outputs": []
    },
    {
      "cell_type": "code",
      "source": [
        "display_table(ios_final, -5)"
      ],
      "metadata": {
        "id": "Xoh_Wupi7Gjv",
        "colab": {
          "base_uri": "https://localhost:8080/"
        },
        "outputId": "a7da0201-9db5-4d76-8a47-1ae72b9db3d0"
      },
      "execution_count": null,
      "outputs": [
        {
          "output_type": "stream",
          "name": "stdout",
          "text": [
            "Games : 58.16263190564867\n",
            "Entertainment : 7.883302296710118\n",
            "Photo & Video : 4.9658597144630665\n",
            "Education : 3.662321539416512\n",
            "Social Networking : 3.2898820608317814\n",
            "Shopping : 2.60707635009311\n",
            "Utilities : 2.5139664804469275\n",
            "Sports : 2.1415270018621975\n",
            "Music : 2.0484171322160147\n",
            "Health & Fitness : 2.0173805090006205\n",
            "Productivity : 1.7380509000620732\n",
            "Lifestyle : 1.5828677839851024\n",
            "News : 1.3345747982619491\n",
            "Travel : 1.2414649286157666\n",
            "Finance : 1.1173184357541899\n",
            "Weather : 0.8690254500310366\n",
            "Food & Drink : 0.8069522036002483\n",
            "Reference : 0.5586592178770949\n",
            "Business : 0.5276225946617008\n",
            "Book : 0.4345127250155183\n",
            "Navigation : 0.186219739292365\n",
            "Medical : 0.186219739292365\n",
            "Catalogs : 0.12414649286157665\n"
          ]
        }
      ]
    },
    {
      "cell_type": "code",
      "source": [
        "genres_ios = freq_table(ios_final, -5)"
      ],
      "metadata": {
        "id": "hC3vkZqe7H-Y"
      },
      "execution_count": null,
      "outputs": []
    },
    {
      "cell_type": "code",
      "source": [
        "for genre in genres_ios:\n",
        "    total = 0\n",
        "    len_genre = 0\n",
        "    for app in ios_final:\n",
        "        genre_app = app[-5]\n",
        "        if genre_app == genre:\n",
        "            n_ratings = float(app[5])\n",
        "            total += n_ratings\n",
        "            len_genre += 1\n",
        "    avg_n_ratings = total / len_genre\n",
        "    print(genre, ':', avg_n_ratings)"
      ],
      "metadata": {
        "id": "x-l3jziX7J-t",
        "colab": {
          "base_uri": "https://localhost:8080/"
        },
        "outputId": "931d7cc6-1660-4b9e-b936-bb22eb6c3182"
      },
      "execution_count": null,
      "outputs": [
        {
          "output_type": "stream",
          "name": "stdout",
          "text": [
            "Social Networking : 71548.34905660378\n",
            "Photo & Video : 28441.54375\n",
            "Games : 22788.6696905016\n",
            "Music : 57326.530303030304\n",
            "Reference : 74942.11111111111\n",
            "Health & Fitness : 23298.015384615384\n",
            "Weather : 52279.892857142855\n",
            "Utilities : 18684.456790123455\n",
            "Travel : 28243.8\n",
            "Shopping : 26919.690476190477\n",
            "News : 21248.023255813954\n",
            "Navigation : 86090.33333333333\n",
            "Lifestyle : 16485.764705882353\n",
            "Entertainment : 14029.830708661417\n",
            "Food & Drink : 33333.92307692308\n",
            "Sports : 23008.898550724636\n",
            "Book : 39758.5\n",
            "Finance : 31467.944444444445\n",
            "Education : 7003.983050847458\n",
            "Productivity : 21028.410714285714\n",
            "Business : 7491.117647058823\n",
            "Catalogs : 4004.0\n",
            "Medical : 612.0\n"
          ]
        }
      ]
    },
    {
      "cell_type": "code",
      "source": [
        "categories_android = freq_table(android_final, 1)"
      ],
      "metadata": {
        "id": "JRoMTs7C7MO-"
      },
      "execution_count": null,
      "outputs": []
    },
    {
      "cell_type": "code",
      "source": [
        "for category in categories_android:\n",
        "    total = 0\n",
        "    len_category = 0\n",
        "    for app in android_final:\n",
        "        category_app = app[1]\n",
        "        if category_app == category:\n",
        "            n_installs = app[5]\n",
        "            n_installs = n_installs.replace(',', '')\n",
        "            n_installs = n_installs.replace('+', '')\n",
        "            total += float(n_installs)\n",
        "            len_category += 1\n",
        "    avg_n_installs = total / len_category\n",
        "    print(category, ':', avg_n_installs)"
      ],
      "metadata": {
        "id": "co8cAySP7O8U",
        "colab": {
          "base_uri": "https://localhost:8080/"
        },
        "outputId": "727e23a1-7f4f-4bb7-f930-ca9586795fcb"
      },
      "execution_count": null,
      "outputs": [
        {
          "output_type": "stream",
          "name": "stdout",
          "text": [
            "ART_AND_DESIGN : 1986335.0877192982\n",
            "AUTO_AND_VEHICLES : 647317.8170731707\n",
            "BEAUTY : 513151.88679245283\n",
            "BOOKS_AND_REFERENCE : 8767811.894736841\n",
            "BUSINESS : 1712290.1474201474\n",
            "COMICS : 817657.2727272727\n",
            "COMMUNICATION : 38456119.167247385\n",
            "DATING : 854028.8303030303\n",
            "EDUCATION : 1833495.145631068\n",
            "ENTERTAINMENT : 11640705.88235294\n",
            "EVENTS : 253542.22222222222\n",
            "FINANCE : 1387692.475609756\n",
            "FOOD_AND_DRINK : 1924897.7363636363\n",
            "HEALTH_AND_FITNESS : 4188821.9853479853\n",
            "HOUSE_AND_HOME : 1331540.5616438356\n",
            "LIBRARIES_AND_DEMO : 638503.734939759\n",
            "LIFESTYLE : 1437816.2687861272\n",
            "GAME : 15588015.603248259\n",
            "FAMILY : 3695641.8198090694\n",
            "MEDICAL : 120550.61980830671\n",
            "SOCIAL : 23253652.127118643\n",
            "SHOPPING : 7036877.311557789\n",
            "PHOTOGRAPHY : 17840110.40229885\n",
            "SPORTS : 3638640.1428571427\n",
            "TRAVEL_AND_LOCAL : 13984077.710144928\n",
            "TOOLS : 10801391.298666667\n",
            "PERSONALIZATION : 5201482.6122448975\n",
            "PRODUCTIVITY : 16787331.344927534\n",
            "PARENTING : 542603.6206896552\n",
            "WEATHER : 5074486.197183099\n",
            "VIDEO_PLAYERS : 24727872.452830188\n",
            "NEWS_AND_MAGAZINES : 9549178.467741935\n",
            "MAPS_AND_NAVIGATION : 4056941.7741935486\n"
          ]
        }
      ]
    },
    {
      "cell_type": "code",
      "source": [
        "def unich_step12_2():\n",
        "  dct = {}\n",
        "  unich = '''\n",
        "  Social Networking : 71548.34905660378\n",
        "  Photo & Video : 28441.54375\n",
        "  Games : 22788.6696905016\n",
        "  Music : 57326.530303030304\n",
        "  Reference : 74942.11111111111\n",
        "  Health & Fitness : 23298.015384615384\n",
        "  Weather : 52279.892857142855\n",
        "  Utilities : 18684.456790123455\n",
        "  Travel : 28243.8\n",
        "  Shopping : 26919.690476190477\n",
        "  News : 21248.023255813954\n",
        "  Navigation : 86090.33333333333\n",
        "  Lifestyle : 16485.764705882353\n",
        "  Entertainment : 14029.830708661417\n",
        "  Food & Drink : 33333.92307692308\n",
        "  Sports : 23008.898550724636\n",
        "  Book : 39758.5\n",
        "  Finance : 31467.944444444445\n",
        "  Education : 7003.983050847458\n",
        "  Productivity : 21028.410714285714\n",
        "  Business : 7491.117647058823\n",
        "  Catalogs : 4004.0\n",
        "  Medical : 612.0\n",
        "  '''\n",
        "  for line in unich.strip().splitlines():\n",
        "    parsed = line.split(':')\n",
        "    genre = parsed[0].strip()\n",
        "    average = float(parsed[1].strip())\n",
        "    average = int(round(average, 0))\n",
        "    dct[genre] = average\n",
        "  return sorted(dct.items(), key=lambda x: x[1], reverse=True)\n",
        "\n",
        "def unich_step13_2():\n",
        "  dct = {}\n",
        "  unich = '''\n",
        "ART_AND_DESIGN : 1986335.0877192982\n",
        "AUTO_AND_VEHICLES : 647317.8170731707\n",
        "BEAUTY : 513151.88679245283\n",
        "BOOKS_AND_REFERENCE : 8767811.894736841\n",
        "BUSINESS : 1712290.1474201474\n",
        "COMICS : 817657.2727272727\n",
        "COMMUNICATION : 38456119.167247385\n",
        "DATING : 854028.8303030303\n",
        "EDUCATION : 1833495.145631068\n",
        "ENTERTAINMENT : 11640705.88235294\n",
        "EVENTS : 253542.22222222222\n",
        "FINANCE : 1387692.475609756\n",
        "FOOD_AND_DRINK : 1924897.7363636363\n",
        "HEALTH_AND_FITNESS : 4188821.9853479853\n",
        "HOUSE_AND_HOME : 1331540.5616438356\n",
        "LIBRARIES_AND_DEMO : 638503.734939759\n",
        "LIFESTYLE : 1437816.2687861272\n",
        "GAME : 15588015.603248259\n",
        "FAMILY : 3695641.8198090694\n",
        "MEDICAL : 120550.61980830671\n",
        "SOCIAL : 23253652.127118643\n",
        "SHOPPING : 7036877.311557789\n",
        "PHOTOGRAPHY : 17840110.40229885\n",
        "SPORTS : 3638640.1428571427\n",
        "TRAVEL_AND_LOCAL : 13984077.710144928\n",
        "TOOLS : 10801391.298666667\n",
        "PERSONALIZATION : 5201482.6122448975\n",
        "PRODUCTIVITY : 16787331.344927534\n",
        "PARENTING : 542603.6206896552\n",
        "WEATHER : 5074486.197183099\n",
        "VIDEO_PLAYERS : 24727872.452830188\n",
        "NEWS_AND_MAGAZINES : 9549178.467741935\n",
        "MAPS_AND_NAVIGATION : 4056941.7741935486\n",
        "  '''\n",
        "  for line in unich.strip().splitlines():\n",
        "    parsed = line.split(':')\n",
        "    genre = parsed[0].strip()\n",
        "    average = float(parsed[1].strip())\n",
        "    average = int(round(average, 0))\n",
        "    dct[genre] = average\n",
        "  return sorted(dct.items(), key=lambda x: x[1], reverse=True)"
      ],
      "metadata": {
        "id": "Dxdbo2NO7RDf"
      },
      "execution_count": null,
      "outputs": []
    }
  ]
}